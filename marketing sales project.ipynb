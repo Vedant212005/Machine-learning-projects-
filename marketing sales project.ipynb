{
 "cells": [
  {
   "cell_type": "code",
   "execution_count": 34,
   "id": "1835b1af-bbaa-4f30-9dc0-b4c1ec3da66e",
   "metadata": {},
   "outputs": [],
   "source": [
    "import pandas as pd\n",
    "import numpy as np\n",
    "import matplotlib.pyplot as plt\n",
    "from sklearn.model_selection import train_test_split\n",
    "import copy,math\n",
    "from sklearn.preprocessing import StandardScaler"
   ]
  },
  {
   "cell_type": "code",
   "execution_count": 13,
   "id": "c72e2206-1e79-4781-9a90-22a05bc40406",
   "metadata": {},
   "outputs": [],
   "source": [
    "file_path=r\"C:\\Users\\vedan\\Desktop\\datasets\\Marketing_Data.csv\"\n",
    "ds=pd.read_csv(file_path)"
   ]
  },
  {
   "cell_type": "code",
   "execution_count": 14,
   "id": "3c252c18-2276-4c8a-b58d-dc5d68b01484",
   "metadata": {},
   "outputs": [
    {
     "name": "stdout",
     "output_type": "stream",
     "text": [
      "   youtube  facebook  newspaper  sales\n",
      "0    84.72     19.20      48.96  12.60\n",
      "1   351.48     33.96      51.84  25.68\n",
      "2   135.48     20.88      46.32  14.28\n",
      "3   116.64      1.80      36.00  11.52\n",
      "4   318.72     24.00       0.36  20.88\n"
     ]
    }
   ],
   "source": [
    "print(ds.head())"
   ]
  },
  {
   "cell_type": "code",
   "execution_count": 15,
   "id": "c272e26e-2d5f-4a31-ad31-8ef0d3dd24a5",
   "metadata": {},
   "outputs": [
    {
     "data": {
      "text/html": [
       "<div>\n",
       "<style scoped>\n",
       "    .dataframe tbody tr th:only-of-type {\n",
       "        vertical-align: middle;\n",
       "    }\n",
       "\n",
       "    .dataframe tbody tr th {\n",
       "        vertical-align: top;\n",
       "    }\n",
       "\n",
       "    .dataframe thead th {\n",
       "        text-align: right;\n",
       "    }\n",
       "</style>\n",
       "<table border=\"1\" class=\"dataframe\">\n",
       "  <thead>\n",
       "    <tr style=\"text-align: right;\">\n",
       "      <th></th>\n",
       "      <th>youtube</th>\n",
       "      <th>facebook</th>\n",
       "      <th>newspaper</th>\n",
       "      <th>sales</th>\n",
       "    </tr>\n",
       "  </thead>\n",
       "  <tbody>\n",
       "    <tr>\n",
       "      <th>0</th>\n",
       "      <td>84.72</td>\n",
       "      <td>19.20</td>\n",
       "      <td>48.96</td>\n",
       "      <td>12.60</td>\n",
       "    </tr>\n",
       "    <tr>\n",
       "      <th>1</th>\n",
       "      <td>351.48</td>\n",
       "      <td>33.96</td>\n",
       "      <td>51.84</td>\n",
       "      <td>25.68</td>\n",
       "    </tr>\n",
       "    <tr>\n",
       "      <th>2</th>\n",
       "      <td>135.48</td>\n",
       "      <td>20.88</td>\n",
       "      <td>46.32</td>\n",
       "      <td>14.28</td>\n",
       "    </tr>\n",
       "    <tr>\n",
       "      <th>3</th>\n",
       "      <td>116.64</td>\n",
       "      <td>1.80</td>\n",
       "      <td>36.00</td>\n",
       "      <td>11.52</td>\n",
       "    </tr>\n",
       "    <tr>\n",
       "      <th>4</th>\n",
       "      <td>318.72</td>\n",
       "      <td>24.00</td>\n",
       "      <td>0.36</td>\n",
       "      <td>20.88</td>\n",
       "    </tr>\n",
       "    <tr>\n",
       "      <th>...</th>\n",
       "      <td>...</td>\n",
       "      <td>...</td>\n",
       "      <td>...</td>\n",
       "      <td>...</td>\n",
       "    </tr>\n",
       "    <tr>\n",
       "      <th>166</th>\n",
       "      <td>45.84</td>\n",
       "      <td>4.44</td>\n",
       "      <td>16.56</td>\n",
       "      <td>9.12</td>\n",
       "    </tr>\n",
       "    <tr>\n",
       "      <th>167</th>\n",
       "      <td>113.04</td>\n",
       "      <td>5.88</td>\n",
       "      <td>9.72</td>\n",
       "      <td>11.64</td>\n",
       "    </tr>\n",
       "    <tr>\n",
       "      <th>168</th>\n",
       "      <td>212.40</td>\n",
       "      <td>11.16</td>\n",
       "      <td>7.68</td>\n",
       "      <td>15.36</td>\n",
       "    </tr>\n",
       "    <tr>\n",
       "      <th>169</th>\n",
       "      <td>340.32</td>\n",
       "      <td>50.40</td>\n",
       "      <td>79.44</td>\n",
       "      <td>30.60</td>\n",
       "    </tr>\n",
       "    <tr>\n",
       "      <th>170</th>\n",
       "      <td>278.52</td>\n",
       "      <td>10.32</td>\n",
       "      <td>10.44</td>\n",
       "      <td>16.08</td>\n",
       "    </tr>\n",
       "  </tbody>\n",
       "</table>\n",
       "<p>171 rows × 4 columns</p>\n",
       "</div>"
      ],
      "text/plain": [
       "     youtube  facebook  newspaper  sales\n",
       "0      84.72     19.20      48.96  12.60\n",
       "1     351.48     33.96      51.84  25.68\n",
       "2     135.48     20.88      46.32  14.28\n",
       "3     116.64      1.80      36.00  11.52\n",
       "4     318.72     24.00       0.36  20.88\n",
       "..       ...       ...        ...    ...\n",
       "166    45.84      4.44      16.56   9.12\n",
       "167   113.04      5.88       9.72  11.64\n",
       "168   212.40     11.16       7.68  15.36\n",
       "169   340.32     50.40      79.44  30.60\n",
       "170   278.52     10.32      10.44  16.08\n",
       "\n",
       "[171 rows x 4 columns]"
      ]
     },
     "execution_count": 15,
     "metadata": {},
     "output_type": "execute_result"
    }
   ],
   "source": [
    "ds\n"
   ]
  },
  {
   "cell_type": "code",
   "execution_count": 18,
   "id": "b64e7060-91d9-4b51-871b-8fe7809df67b",
   "metadata": {},
   "outputs": [],
   "source": [
    "x=ds.drop('sales',axis=1).values"
   ]
  },
  {
   "cell_type": "code",
   "execution_count": 19,
   "id": "2c677dc9-20f0-4657-9357-b2326421e0cb",
   "metadata": {},
   "outputs": [],
   "source": [
    "y=ds['sales'].values"
   ]
  },
  {
   "cell_type": "code",
   "execution_count": 35,
   "id": "34f3e5d5-4362-4383-ab2f-90546c3c1ad8",
   "metadata": {},
   "outputs": [],
   "source": [
    "scaler=StandardScaler()"
   ]
  },
  {
   "cell_type": "code",
   "execution_count": 36,
   "id": "e4ff7adb-9ea8-4120-8cfa-99b75851a825",
   "metadata": {},
   "outputs": [],
   "source": [
    "x_scaled=scaler.fit_transform(x)"
   ]
  },
  {
   "cell_type": "code",
   "execution_count": 37,
   "id": "0bbfc65f-489e-4c6e-9de7-c4f5b776f336",
   "metadata": {},
   "outputs": [
    {
     "data": {
      "text/plain": [
       "array([[-0.9133766 , -0.47430395,  0.55255749],\n",
       "       [ 1.69808742,  0.35207403,  0.66854624],\n",
       "       [-0.41645835, -0.38024467,  0.44623448],\n",
       "       [-0.60089373, -1.44848939,  0.03060814],\n",
       "       [ 1.37738131, -0.20556315, -1.40475257],\n",
       "       [-0.61851494, -1.45520791, -1.0616192 ],\n",
       "       [ 1.67224297, -1.27380786, -1.0084577 ],\n",
       "       [ 1.39265303,  1.39344467, -1.17760795],\n",
       "       [-0.86521195,  1.7696818 ,  0.78936785],\n",
       "       [-1.23643221,  0.24457771,  0.27708422],\n",
       "       [ 0.9356762 ,  0.98361493,  0.12726543],\n",
       "       [ 0.63611555, -0.05103718,  0.10793397],\n",
       "       [ 0.3365549 ,  0.69471856,  0.45106734],\n",
       "       [ 1.70631066,  0.31176291, -1.33225961],\n",
       "       [ 0.68780444, -0.98491149, -0.14337498],\n",
       "       [-1.44788678,  0.17739251,  0.6733791 ],\n",
       "       [ 0.31423469, -0.03760014,  0.10310111],\n",
       "       [-0.6889998 , -0.88413369,  0.30608141],\n",
       "       [ 1.07547117,  1.2389187 , -0.52517126],\n",
       "       [ 0.92627822, -0.48774099,  0.99234815],\n",
       "       [-0.95684226, -0.76320032,  0.35924292],\n",
       "       [ 0.60439736, -1.34099306,  0.2529199 ],\n",
       "       [-0.5633018 , -0.90428925, -1.24526805],\n",
       "       [ 0.79940547,  1.25235574,  0.49456312],\n",
       "       [ 0.40234076,  1.55468915,  1.41764021],\n",
       "       [ 1.34331363,  0.38566663, -0.65082573],\n",
       "       [ 0.59382463,  1.7696818 ,  1.48046745],\n",
       "       [-1.65699186,  0.33863699,  0.58155468],\n",
       "       [-0.14274214, -0.25931131, -0.61699568],\n",
       "       [ 0.7336196 ,  1.78311884,  0.4027387 ],\n",
       "       [ 0.73244485,  0.43269628, -0.96979478],\n",
       "       [-1.11425845, -1.41489678, -0.38501819],\n",
       "       [ 1.32686716,  1.31954095,  1.22432564],\n",
       "       [ 1.06842268, -0.50789656, -0.0998792 ],\n",
       "       [-0.53628261,  0.4394148 , -1.01329056],\n",
       "       [-0.20265427,  1.32625947, -0.02255337],\n",
       "       [-0.93217256, -0.92444481, -1.37575539],\n",
       "       [-1.37270293,  0.10348879, -1.31292815],\n",
       "       [-0.10632497, -0.57508176, -0.926299  ],\n",
       "       [ 1.04610248,  0.29832587, -0.88763609],\n",
       "       [ 0.80410446,  1.40016319, -0.10471206],\n",
       "       [ 0.59617413,  0.5066    ,  0.45106734],\n",
       "       [-0.45287552, -0.5885188 ,  0.11276684],\n",
       "       [-1.42791607,  0.66784448, -0.48650835],\n",
       "       [-0.22262498, -1.16631154,  0.09343538],\n",
       "       [ 0.76416304,  0.10348879, -0.78614594],\n",
       "       [-1.54421609,  1.38672615,  2.90132957],\n",
       "       [-1.41969284, -1.44177087, -0.41884824],\n",
       "       [-0.32717753,  0.36551107, -0.73298443],\n",
       "       [-1.67931207,  0.45957036, -0.96496192],\n",
       "       [-0.38004117, -1.03194113, -0.3028595 ],\n",
       "       [-0.84524124,  0.24457771, -0.34152241],\n",
       "       [ 1.07429642, -1.27380786,  0.36407578],\n",
       "       [-0.85816346, -0.18540758,  0.15142975],\n",
       "       [-0.93922105,  1.44047431,  0.30124855],\n",
       "       [ 0.76533779,  1.33969651,  0.21425699],\n",
       "       [ 0.52686402, -0.31305947,  1.75594072],\n",
       "       [-0.84641599,  0.29832587, -0.64599287],\n",
       "       [-0.44230279,  1.17845202,  1.63511911],\n",
       "       [-0.70544627,  0.16395547,  2.12807127],\n",
       "       [-0.45287552,  1.66218548,  1.06484111],\n",
       "       [-0.16506235, -1.2200597 , -0.96979478],\n",
       "       [-1.40677061, -1.44848939,  0.17559407],\n",
       "       [ 0.81467719,  0.70143708,  1.4321388 ],\n",
       "       [ 1.20469341,  0.90299269,  2.07490976],\n",
       "       [-0.48106947, -0.60867436, -0.89246895],\n",
       "       [ 0.17561447,  0.5737852 ,  1.13733408],\n",
       "       [ 0.57855291, -1.31411898, -1.13411217],\n",
       "       [ 0.42935996, -0.13837794, -0.35602101],\n",
       "       [ 1.6604955 ,  1.29266686,  1.05517538],\n",
       "       [-0.15448962,  1.25235574,  0.79903357],\n",
       "       [ 0.86989033, -1.26037082,  0.98751528],\n",
       "       [ 1.73920359,  0.88955565,  3.45710897],\n",
       "       [ 1.54889447, -0.87069665, -0.38501819],\n",
       "       [ 0.46460239, -0.39368171, -0.55416845],\n",
       "       [ 1.05550046,  0.75518525, -1.16310936],\n",
       "       [-0.12277143,  1.56812619,  1.4321388 ],\n",
       "       [-1.44906153, -0.81022996,  0.01610955],\n",
       "       [-0.68077657, -1.52911163, -0.29802664],\n",
       "       [-1.5888565 , -1.52239311, -0.18203789],\n",
       "       [ 1.25755705,  0.25801475, -1.15344363],\n",
       "       [ 0.90983175, -0.99834853,  1.3113172 ],\n",
       "       [ 1.09661663,  1.00377049, -0.29802664],\n",
       "       [ 0.32128318, -0.51461508, -1.30326242],\n",
       "       [ 0.71952263, -0.16525202, -0.90213468],\n",
       "       [-0.82409578,  1.59500027,  0.24808704],\n",
       "       [-0.86051296,  0.80221489,  1.12766835],\n",
       "       [-0.10749971, -0.5885188 , -0.18203789],\n",
       "       [-0.84524124, -1.49551903, -0.70398724],\n",
       "       [-0.26609065,  0.92986677,  2.40837741],\n",
       "       [-1.5148474 , -0.47430395, -0.34152241],\n",
       "       [-0.08283001,  0.25129623,  0.81353217],\n",
       "       [-1.52189588, -0.0913483 ,  1.01651247],\n",
       "       [ 0.88868629, -1.3880227 , -0.66532433],\n",
       "       [-0.29663409,  0.77534081, -0.81997599],\n",
       "       [ 0.95329741,  0.62081484,  2.16673419],\n",
       "       [-0.71836849, -0.7564818 , -0.1675393 ],\n",
       "       [-1.65111813,  1.06423718,  1.0261782 ],\n",
       "       [-0.80060083, -1.54926719, -0.97462765],\n",
       "       [ 0.84522063,  1.74280772, -1.26459951],\n",
       "       [-1.04259884, -0.74304476,  0.66371337],\n",
       "       [-1.73452521,  1.11126682, -0.99879197],\n",
       "       [ 1.37268232, -1.3544301 ,  0.65888051],\n",
       "       [-1.64406964,  0.27817031, -1.31776102],\n",
       "       [ 0.83934689,  0.70143708,  0.76037066],\n",
       "       [-1.30926656,  1.04408162,  1.75110785],\n",
       "       [-1.17534533,  1.60843731, -1.0084577 ],\n",
       "       [-1.44201304,  1.0709557 , -0.96979478],\n",
       "       [ 1.47253587,  0.39238515,  1.46596886],\n",
       "       [-1.23760695,  0.19082955, -0.42851397],\n",
       "       [ 0.42935996,  1.40016319, -1.33709247],\n",
       "       [-0.88048367, -0.40711875, -0.79581166],\n",
       "       [ 0.53273775,  0.82908897,  2.23439429],\n",
       "       [ 0.84757012,  0.68128152,  0.41240443],\n",
       "       [-0.5139624 , -1.16631154,  0.24325417],\n",
       "       [-0.6126412 , -0.5549262 ,  0.46073307],\n",
       "       [-0.09457749, -1.42161531, -0.98429337],\n",
       "       [ 1.07782066, -1.05881521, -0.99879197],\n",
       "       [ 1.11423784,  1.74280772,  0.72170774],\n",
       "       [-1.29634434,  1.15829646, -0.84414031],\n",
       "       [-1.21763624,  0.18411103, -0.42368111],\n",
       "       [ 1.55476821, -0.61539288,  0.36890865],\n",
       "       [-0.32130379, -0.98491149,  0.93435378],\n",
       "       [ 0.57855291,  0.01614802, -0.73298443],\n",
       "       [ 0.26959428,  1.11798534,  0.4027387 ],\n",
       "       [ 0.46342764, -0.13165942, -0.96012905],\n",
       "       [-1.69458379, -0.76991884, -1.1437779 ],\n",
       "       [-0.6396604 ,  1.37328911,  1.02134533],\n",
       "       [ 0.01702354, -1.46192643, -0.24486513],\n",
       "       [-1.60530297,  0.92986677,  0.76520352],\n",
       "       [-0.19560579, -0.31305947,  0.2529199 ],\n",
       "       [ 0.28369125, -0.33321503,  0.06443819],\n",
       "       [-0.73598971,  0.85596305,  0.96335096],\n",
       "       [ 0.47047613, -0.33321503, -0.18203789],\n",
       "       [ 0.17796396,  0.92314825, -1.0616192 ],\n",
       "       [-0.3659442 , -0.56164472, -1.15827649],\n",
       "       [ 1.01203479, -1.3208375 ,  2.67901781],\n",
       "       [-1.53246861,  0.97689641, -0.37535247],\n",
       "       [ 0.6866297 , -1.19990414, -0.48167548],\n",
       "       [ 0.78765799,  0.03630358,  1.3644787 ],\n",
       "       [ 1.59705912, -0.83710405, -1.10994785],\n",
       "       [-1.15537462, -0.76991884, -0.53000412],\n",
       "       [ 0.18971144, -0.14509646,  0.87152654],\n",
       "       [-1.5124979 , -0.19884462, -0.59766423],\n",
       "       [ 0.2355266 , -1.07225225, -0.80064453],\n",
       "       [ 0.86989033, -1.3208375 , -0.78614594],\n",
       "       [ 1.5101278 ,  1.7360892 ,  0.60088614],\n",
       "       [ 1.17532472,  0.47972592, -0.4381797 ],\n",
       "       [ 0.25667206, -1.02522261,  0.28191709],\n",
       "       [ 1.5077783 , -1.39474122, -0.27386231],\n",
       "       [ 0.20263366, -0.87741517, -0.56866704],\n",
       "       [ 0.09690638, -1.37458566, -1.01812342],\n",
       "       [ 0.82407517, -1.1864671 , -0.09504633],\n",
       "       [-1.08254026, -1.16631154,  0.01610955],\n",
       "       [ 1.6358258 ,  1.33969651,  2.05074544],\n",
       "       [ 1.23876109, -0.11822238,  0.03060814],\n",
       "       [ 0.66548424,  1.48078543, -0.47200975],\n",
       "       [-0.10397547, -1.40817826, -0.13370925],\n",
       "       [ 0.50219432,  0.37894811, -0.53966985],\n",
       "       [ 1.61702983, -0.61539288, -1.24043519],\n",
       "       [-1.52307063, -0.73632624, -0.28836091],\n",
       "       [-1.27872312,  1.21204462, -1.13894503],\n",
       "       [-0.85581397, -0.82366701, -1.12927931],\n",
       "       [-1.54069185, -1.27380786,  0.10793397],\n",
       "       [ 0.21673064,  1.2725113 , -1.24526805],\n",
       "       [ 0.01584879,  0.84252601, -1.12927931],\n",
       "       [-1.29399484, -1.30068194, -0.75231589],\n",
       "       [-0.63613616, -1.2200597 , -1.02778915],\n",
       "       [ 0.3365549 , -0.92444481, -1.10994785],\n",
       "       [ 1.58883589,  1.2725113 ,  1.78010504],\n",
       "       [ 0.98384085, -0.97147445, -0.99879197]])"
      ]
     },
     "execution_count": 37,
     "metadata": {},
     "output_type": "execute_result"
    }
   ],
   "source": [
    "x_scaled"
   ]
  },
  {
   "cell_type": "code",
   "execution_count": 38,
   "id": "2a30f790-e0a5-43d6-a358-36b6f5cc085d",
   "metadata": {},
   "outputs": [
    {
     "data": {
      "text/plain": [
       "array([12.6 , 25.68, 14.28, 11.52, 20.88, 11.4 , 15.36, 30.48, 17.64,\n",
       "       12.12, 25.8 , 19.92, 20.52, 24.84, 15.48, 10.2 , 17.88, 12.72,\n",
       "       27.84, 17.76, 11.64, 13.68, 12.84, 27.12, 25.44, 24.24, 28.44,\n",
       "        6.6 , 15.84, 28.56, 22.08,  9.72, 29.04, 18.84, 16.8 , 21.6 ,\n",
       "       11.16, 11.4 , 16.08, 22.68, 26.76, 21.96, 14.88, 10.56, 13.2 ,\n",
       "       20.4 , 10.44,  8.28, 17.04,  6.36, 13.2 , 14.16, 14.76, 13.56,\n",
       "       16.32, 26.04, 18.24, 14.4 , 19.2 , 15.48, 20.04, 13.44,  8.76,\n",
       "       23.28, 26.64, 13.8 , 20.28, 14.04, 18.6 , 30.48, 20.64, 14.04,\n",
       "       28.56, 17.76, 17.64, 24.84, 23.04,  8.64, 10.44,  6.36, 23.76,\n",
       "       16.08, 26.16, 16.92, 19.08, 17.52, 15.12, 14.64, 11.28, 19.08,\n",
       "        7.92, 18.6 ,  8.4 , 13.92, 18.24, 23.64, 12.72,  7.92, 10.56,\n",
       "       29.64, 11.64,  1.92, 15.24,  6.84, 23.52, 12.96, 13.92, 11.4 ,\n",
       "       24.96, 11.52, 24.84, 13.08, 23.04, 24.12, 12.48, 13.68, 12.36,\n",
       "       15.84, 30.48, 13.08, 12.12, 19.32, 13.92, 19.92, 22.8 , 18.72,\n",
       "        3.84, 18.36, 12.12,  8.76, 15.48, 17.28, 15.96, 17.88, 21.6 ,\n",
       "       14.28, 14.28,  9.6 , 14.64, 20.52, 18.  , 10.08, 17.4 ,  9.12,\n",
       "       14.04, 13.8 , 32.4 , 24.24, 14.04, 14.16, 15.12, 12.6 , 14.64,\n",
       "       10.44, 31.44, 21.12, 27.12, 12.36, 20.76, 19.08,  8.04, 12.96,\n",
       "       11.88,  7.08, 23.52, 20.76,  9.12, 11.64, 15.36, 30.6 , 16.08])"
      ]
     },
     "execution_count": 38,
     "metadata": {},
     "output_type": "execute_result"
    }
   ],
   "source": [
    "y"
   ]
  },
  {
   "cell_type": "code",
   "execution_count": 41,
   "id": "5be42231-2766-4307-aea5-cfd3f8490175",
   "metadata": {},
   "outputs": [],
   "source": [
    "x_train,x_test,y_train,y_test=train_test_split(x_scaled,y,test_size=0.2,random_state=15)"
   ]
  },
  {
   "cell_type": "code",
   "execution_count": 42,
   "id": "6ae8dc46-5dcc-4af7-b329-1b85fe581729",
   "metadata": {},
   "outputs": [
    {
     "data": {
      "text/plain": [
       "array([[-0.68077657, -1.52911163, -0.29802664],\n",
       "       [ 0.60439736, -1.34099306,  0.2529199 ],\n",
       "       [ 0.18971144, -0.14509646,  0.87152654],\n",
       "       [-0.44230279,  1.17845202,  1.63511911],\n",
       "       [-1.54069185, -1.27380786,  0.10793397],\n",
       "       [-1.23643221,  0.24457771,  0.27708422],\n",
       "       [-0.86051296,  0.80221489,  1.12766835],\n",
       "       [-1.69458379, -0.76991884, -1.1437779 ],\n",
       "       [-1.52189588, -0.0913483 ,  1.01651247],\n",
       "       [ 0.76533779,  1.33969651,  0.21425699],\n",
       "       [ 1.17532472,  0.47972592, -0.4381797 ],\n",
       "       [-0.26609065,  0.92986677,  2.40837741],\n",
       "       [-0.63613616, -1.2200597 , -1.02778915],\n",
       "       [-1.60530297,  0.92986677,  0.76520352],\n",
       "       [ 0.73244485,  0.43269628, -0.96979478],\n",
       "       [ 0.53273775,  0.82908897,  2.23439429],\n",
       "       [-0.09457749, -1.42161531, -0.98429337],\n",
       "       [-1.41969284, -1.44177087, -0.41884824],\n",
       "       [ 0.46460239, -0.39368171, -0.55416845],\n",
       "       [-1.21763624,  0.18411103, -0.42368111],\n",
       "       [ 1.5077783 , -1.39474122, -0.27386231],\n",
       "       [ 0.59382463,  1.7696818 ,  1.48046745],\n",
       "       [ 0.78765799,  0.03630358,  1.3644787 ],\n",
       "       [ 0.95329741,  0.62081484,  2.16673419],\n",
       "       [ 1.58883589,  1.2725113 ,  1.78010504],\n",
       "       [-0.32717753,  0.36551107, -0.73298443],\n",
       "       [-0.73598971,  0.85596305,  0.96335096],\n",
       "       [ 1.07782066, -1.05881521, -0.99879197],\n",
       "       [ 0.3365549 ,  0.69471856,  0.45106734],\n",
       "       [ 1.34331363,  0.38566663, -0.65082573],\n",
       "       [-1.29399484, -1.30068194, -0.75231589],\n",
       "       [ 0.17796396,  0.92314825, -1.0616192 ],\n",
       "       [ 1.67224297, -1.27380786, -1.0084577 ],\n",
       "       [-0.10397547, -1.40817826, -0.13370925],\n",
       "       [-0.85581397, -0.82366701, -1.12927931]])"
      ]
     },
     "execution_count": 42,
     "metadata": {},
     "output_type": "execute_result"
    }
   ],
   "source": [
    "x_test"
   ]
  },
  {
   "cell_type": "code",
   "execution_count": 43,
   "id": "e1ea6087-ffd8-4619-952b-8a9f02703006",
   "metadata": {},
   "outputs": [
    {
     "data": {
      "text/plain": [
       "array([[-0.93217256, -0.92444481, -1.37575539],\n",
       "       [-1.11425845, -1.41489678, -0.38501819],\n",
       "       [ 0.09690638, -1.37458566, -1.01812342],\n",
       "       [ 0.86989033, -1.26037082,  0.98751528],\n",
       "       [ 0.28369125, -0.33321503,  0.06443819],\n",
       "       [-0.70544627,  0.16395547,  2.12807127],\n",
       "       [ 0.84757012,  0.68128152,  0.41240443],\n",
       "       [ 1.6358258 ,  1.33969651,  2.05074544],\n",
       "       [-0.6396604 ,  1.37328911,  1.02134533],\n",
       "       [-1.73452521,  1.11126682, -0.99879197],\n",
       "       [ 1.25755705,  0.25801475, -1.15344363],\n",
       "       [ 1.5101278 ,  1.7360892 ,  0.60088614],\n",
       "       [ 0.63611555, -0.05103718,  0.10793397],\n",
       "       [-0.60089373, -1.44848939,  0.03060814],\n",
       "       [-0.61851494, -1.45520791, -1.0616192 ],\n",
       "       [ 0.80410446,  1.40016319, -0.10471206],\n",
       "       [ 0.01584879,  0.84252601, -1.12927931],\n",
       "       [ 1.70631066,  0.31176291, -1.33225961],\n",
       "       [-1.04259884, -0.74304476,  0.66371337],\n",
       "       [-0.9133766 , -0.47430395,  0.55255749],\n",
       "       [-1.67931207,  0.45957036, -0.96496192],\n",
       "       [-0.88048367, -0.40711875, -0.79581166],\n",
       "       [-0.48106947, -0.60867436, -0.89246895],\n",
       "       [-0.08283001,  0.25129623,  0.81353217],\n",
       "       [-0.84641599,  0.29832587, -0.64599287],\n",
       "       [-0.95684226, -0.76320032,  0.35924292],\n",
       "       [-0.19560579, -0.31305947,  0.2529199 ],\n",
       "       [-1.64406964,  0.27817031, -1.31776102],\n",
       "       [ 0.42935996, -0.13837794, -0.35602101],\n",
       "       [-1.65699186,  0.33863699,  0.58155468],\n",
       "       [ 1.73920359,  0.88955565,  3.45710897],\n",
       "       [ 0.82407517, -1.1864671 , -0.09504633],\n",
       "       [ 0.81467719,  0.70143708,  1.4321388 ],\n",
       "       [-0.16506235, -1.2200597 , -0.96979478],\n",
       "       [-1.42791607,  0.66784448, -0.48650835],\n",
       "       [ 0.50219432,  0.37894811, -0.53966985],\n",
       "       [-0.86521195,  1.7696818 ,  0.78936785],\n",
       "       [-0.45287552,  1.66218548,  1.06484111],\n",
       "       [ 0.86989033, -1.3208375 , -0.78614594],\n",
       "       [-0.32130379, -0.98491149,  0.93435378],\n",
       "       [-0.53628261,  0.4394148 , -1.01329056],\n",
       "       [ 1.55476821, -0.61539288,  0.36890865],\n",
       "       [-0.29663409,  0.77534081, -0.81997599],\n",
       "       [ 0.20263366, -0.87741517, -0.56866704],\n",
       "       [-1.08254026, -1.16631154,  0.01610955],\n",
       "       [ 0.57855291, -1.31411898, -1.13411217],\n",
       "       [-1.23760695,  0.19082955, -0.42851397],\n",
       "       [ 0.98384085, -0.97147445, -0.99879197],\n",
       "       [ 0.2355266 , -1.07225225, -0.80064453],\n",
       "       [ 1.07429642, -1.27380786,  0.36407578],\n",
       "       [ 1.09661663,  1.00377049, -0.29802664],\n",
       "       [ 0.68780444, -0.98491149, -0.14337498],\n",
       "       [-1.65111813,  1.06423718,  1.0261782 ],\n",
       "       [-0.10632497, -0.57508176, -0.926299  ],\n",
       "       [-1.54421609,  1.38672615,  2.90132957],\n",
       "       [-1.53246861,  0.97689641, -0.37535247],\n",
       "       [ 0.57855291,  0.01614802, -0.73298443],\n",
       "       [ 1.54889447, -0.87069665, -0.38501819],\n",
       "       [ 1.20469341,  0.90299269,  2.07490976],\n",
       "       [-0.93922105,  1.44047431,  0.30124855],\n",
       "       [ 1.6604955 ,  1.29266686,  1.05517538],\n",
       "       [ 1.01203479, -1.3208375 ,  2.67901781],\n",
       "       [-0.20265427,  1.32625947, -0.02255337],\n",
       "       [ 0.71952263, -0.16525202, -0.90213468],\n",
       "       [-0.14274214, -0.25931131, -0.61699568],\n",
       "       [-0.3659442 , -0.56164472, -1.15827649],\n",
       "       [-0.15448962,  1.25235574,  0.79903357],\n",
       "       [ 1.32686716,  1.31954095,  1.22432564],\n",
       "       [-1.17534533,  1.60843731, -1.0084577 ],\n",
       "       [-1.44906153, -0.81022996,  0.01610955],\n",
       "       [ 0.31423469, -0.03760014,  0.10310111],\n",
       "       [-1.44201304,  1.0709557 , -0.96979478],\n",
       "       [-1.5148474 , -0.47430395, -0.34152241],\n",
       "       [ 1.07547117,  1.2389187 , -0.52517126],\n",
       "       [-0.10749971, -0.5885188 , -0.18203789],\n",
       "       [-0.80060083, -1.54926719, -0.97462765],\n",
       "       [ 0.88868629, -1.3880227 , -0.66532433],\n",
       "       [-1.52307063, -0.73632624, -0.28836091],\n",
       "       [-1.27872312,  1.21204462, -1.13894503],\n",
       "       [-0.84524124,  0.24457771, -0.34152241],\n",
       "       [ 0.90983175, -0.99834853,  1.3113172 ],\n",
       "       [-0.45287552, -0.5885188 ,  0.11276684],\n",
       "       [-0.6126412 , -0.5549262 ,  0.46073307],\n",
       "       [ 1.47253587,  0.39238515,  1.46596886],\n",
       "       [ 0.26959428,  1.11798534,  0.4027387 ],\n",
       "       [-0.41645835, -0.38024467,  0.44623448],\n",
       "       [ 1.06842268, -0.50789656, -0.0998792 ],\n",
       "       [ 0.46342764, -0.13165942, -0.96012905],\n",
       "       [ 0.42935996,  1.40016319, -1.33709247],\n",
       "       [-0.84524124, -1.49551903, -0.70398724],\n",
       "       [-0.12277143,  1.56812619,  1.4321388 ],\n",
       "       [ 0.7336196 ,  1.78311884,  0.4027387 ],\n",
       "       [-1.15537462, -0.76991884, -0.53000412],\n",
       "       [ 0.3365549 , -0.92444481, -1.10994785],\n",
       "       [ 0.6866297 , -1.19990414, -0.48167548],\n",
       "       [ 0.32128318, -0.51461508, -1.30326242],\n",
       "       [ 0.76416304,  0.10348879, -0.78614594],\n",
       "       [ 0.40234076,  1.55468915,  1.41764021],\n",
       "       [ 0.17561447,  0.5737852 ,  1.13733408],\n",
       "       [ 1.39265303,  1.39344467, -1.17760795],\n",
       "       [ 1.37738131, -0.20556315, -1.40475257],\n",
       "       [ 0.84522063,  1.74280772, -1.26459951],\n",
       "       [ 0.25667206, -1.02522261,  0.28191709],\n",
       "       [ 0.83934689,  0.70143708,  0.76037066],\n",
       "       [-0.5633018 , -0.90428925, -1.24526805],\n",
       "       [ 0.59617413,  0.5066    ,  0.45106734],\n",
       "       [-0.85816346, -0.18540758,  0.15142975],\n",
       "       [-0.38004117, -1.03194113, -0.3028595 ],\n",
       "       [ 1.05550046,  0.75518525, -1.16310936],\n",
       "       [ 0.21673064,  1.2725113 , -1.24526805],\n",
       "       [-0.71836849, -0.7564818 , -0.1675393 ],\n",
       "       [ 1.69808742,  0.35207403,  0.66854624],\n",
       "       [-0.5139624 , -1.16631154,  0.24325417],\n",
       "       [ 0.52686402, -0.31305947,  1.75594072],\n",
       "       [-1.44788678,  0.17739251,  0.6733791 ],\n",
       "       [ 1.37268232, -1.3544301 ,  0.65888051],\n",
       "       [-1.5888565 , -1.52239311, -0.18203789],\n",
       "       [-0.22262498, -1.16631154,  0.09343538],\n",
       "       [ 0.92627822, -0.48774099,  0.99234815],\n",
       "       [-1.37270293,  0.10348879, -1.31292815],\n",
       "       [ 1.04610248,  0.29832587, -0.88763609],\n",
       "       [-1.30926656,  1.04408162,  1.75110785],\n",
       "       [-1.5124979 , -0.19884462, -0.59766423],\n",
       "       [ 0.9356762 ,  0.98361493,  0.12726543],\n",
       "       [-1.40677061, -1.44848939,  0.17559407],\n",
       "       [ 0.79940547,  1.25235574,  0.49456312],\n",
       "       [ 1.61702983, -0.61539288, -1.24043519],\n",
       "       [-0.6889998 , -0.88413369,  0.30608141],\n",
       "       [ 1.11423784,  1.74280772,  0.72170774],\n",
       "       [-0.82409578,  1.59500027,  0.24808704],\n",
       "       [ 1.23876109, -0.11822238,  0.03060814],\n",
       "       [ 0.66548424,  1.48078543, -0.47200975],\n",
       "       [ 0.01702354, -1.46192643, -0.24486513],\n",
       "       [-1.29634434,  1.15829646, -0.84414031],\n",
       "       [ 0.47047613, -0.33321503, -0.18203789],\n",
       "       [ 1.59705912, -0.83710405, -1.10994785]])"
      ]
     },
     "execution_count": 43,
     "metadata": {},
     "output_type": "execute_result"
    }
   ],
   "source": [
    "x_train"
   ]
  },
  {
   "cell_type": "code",
   "execution_count": 23,
   "id": "1baeff71-1493-41f5-beb4-404f6147c83f",
   "metadata": {},
   "outputs": [],
   "source": [
    "def cost_function(x,y,w,b):\n",
    "    m,n=x.shape\n",
    "    j=0\n",
    "    for i in range (m):\n",
    "        j=j+(np.dot(x[i],w)+b -y[i])**2\n",
    "    j=j/(2*m)\n",
    "    return j"
   ]
  },
  {
   "cell_type": "code",
   "execution_count": 24,
   "id": "46735a73-eee3-47bd-8e4f-d54d4445be42",
   "metadata": {},
   "outputs": [],
   "source": [
    "def gradient_w_b(x,y,w,b):\n",
    "    m,n=x.shape\n",
    "    dj_dw=np.zeros((n,))\n",
    "    dj_db=0\n",
    "    for i in range (m):\n",
    "        dj_db=dj_db+(np.dot(x[i],w)+b-y[i])\n",
    "        for j in range (n):\n",
    "            dj_dw[j]=dj_dw[j]+(np.dot(x[i],w)+b-y[i])*x[i,j]\n",
    "    dj_db=dj_db/m\n",
    "    dj_dw=dj_dw/m\n",
    "    return dj_dw,dj_db"
   ]
  },
  {
   "cell_type": "code",
   "execution_count": 54,
   "id": "559d663c-ebe7-447d-b4ff-6e26f5d2ef06",
   "metadata": {},
   "outputs": [],
   "source": [
    "def gradient_descent(x_train,y_train,w,b,al,k):\n",
    "    w_n=copy.deepcopy(w)\n",
    "    b_n=b\n",
    "    j_hist=np.empty(k)\n",
    "    for i in range (k):\n",
    "        dj_dw,dj_db=gradient_w_b(x_train,y_train,w_n,b_n)\n",
    "        w_n=w_n-al*dj_dw\n",
    "        b_n=b_n-al*dj_db\n",
    "        j_hist[i]=cost_function(x_train,y_train,w_n,b_n)\n",
    "    return w_n,b_n,j_hist"
   ]
  },
  {
   "cell_type": "code",
   "execution_count": 55,
   "id": "cbb66fa7-bc2f-4e87-9aae-6a7eead286cb",
   "metadata": {},
   "outputs": [],
   "source": [
    "def predict(x,w,b):\n",
    "    f_wb=np.dot(x,w)+b\n",
    "    return f_wb"
   ]
  },
  {
   "cell_type": "code",
   "execution_count": 84,
   "id": "86af20e3-e33f-424a-a5ee-8f1808709b22",
   "metadata": {},
   "outputs": [],
   "source": [
    "w_in=np.zeros(3)\n",
    "b_in=0\n",
    "al=0.001\n",
    "i=100000"
   ]
  },
  {
   "cell_type": "code",
   "execution_count": 85,
   "id": "16c74c76-6916-41e5-b6fc-530bc2efd063",
   "metadata": {},
   "outputs": [],
   "source": [
    "w_n,b_n,j_hist=gradient_descent(x_train,y_train,w_in,b_in,al,i)"
   ]
  },
  {
   "cell_type": "code",
   "execution_count": 86,
   "id": "99e36eaf-d36c-4323-be1d-2efafa21eb09",
   "metadata": {},
   "outputs": [
    {
     "data": {
      "text/plain": [
       "array([4.73379499, 3.30947062, 0.07292281])"
      ]
     },
     "execution_count": 86,
     "metadata": {},
     "output_type": "execute_result"
    }
   ],
   "source": [
    "w_n"
   ]
  },
  {
   "cell_type": "code",
   "execution_count": 87,
   "id": "660d298e-1ea7-4410-b257-62f05059383b",
   "metadata": {},
   "outputs": [
    {
     "data": {
      "text/plain": [
       "16.927581680818623"
      ]
     },
     "execution_count": 87,
     "metadata": {},
     "output_type": "execute_result"
    }
   ],
   "source": [
    "b_n\n"
   ]
  },
  {
   "cell_type": "code",
   "execution_count": 90,
   "id": "c385d6f1-27e2-4331-b451-cd272c0497cf",
   "metadata": {},
   "outputs": [],
   "source": [
    "iteration=np.arange(1,100001)"
   ]
  },
  {
   "cell_type": "code",
   "execution_count": 91,
   "id": "67991684-e491-407c-949b-d697dbdff9e7",
   "metadata": {},
   "outputs": [
    {
     "data": {
      "text/plain": [
       "[<matplotlib.lines.Line2D at 0x11f5d82d5d0>]"
      ]
     },
     "execution_count": 91,
     "metadata": {},
     "output_type": "execute_result"
    },
    {
     "data": {
      "image/png": "[encoded data removed]",
      "text/plain": [
       "<Figure size 640x480 with 1 Axes>"
      ]
     },
     "metadata": {},
     "output_type": "display_data"
    }
   ],
   "source": [
    "plt.plot(iteration,j_hist,color='green')"
   ]
  },
  {
   "cell_type": "code",
   "execution_count": 63,
   "id": "a5b75291-ead4-4d1d-8323-d8379a086a27",
   "metadata": {},
   "outputs": [
    {
     "name": "stdout",
     "output_type": "stream",
     "text": [
      "[161.83634586 158.58645935 155.40282231 ...   2.01749339   2.01749339\n",
      "   2.01749339]\n"
     ]
    }
   ],
   "source": [
    "print(j_hist)"
   ]
  },
  {
   "cell_type": "code",
   "execution_count": 92,
   "id": "e059b8b5-c067-4f14-bd00-fc004ff60ee2",
   "metadata": {},
   "outputs": [],
   "source": [
    "y_pred=predict(x_test,w_n,b_n)"
   ]
  },
  {
   "cell_type": "code",
   "execution_count": 93,
   "id": "9cf0f316-aa4c-4dfd-84f4-bd1e309906db",
   "metadata": {},
   "outputs": [
    {
     "data": {
      "text/plain": [
       "array([ 8.62264202, 15.36914136, 17.40899843, 18.85310074,  5.42650349,\n",
       "       11.90419361, 15.5912291 ,  6.27433814,  9.49505099, 24.99984432,\n",
       "       24.04701348, 18.92095551,  9.80354253, 12.46157409, 21.75610092,\n",
       "       22.35623688, 11.70329971,  5.40500492, 17.78362457, 11.74195536,\n",
       "       19.42926914, 25.70329552, 20.8758404 , 23.65286901, 28.78995409,\n",
       "       16.53498723, 16.34659212, 18.45281118, 20.85280734, 24.51544538,\n",
       "        6.44264573, 20.74774237, 20.55446783, 11.76530806, 10.06808184])"
      ]
     },
     "execution_count": 93,
     "metadata": {},
     "output_type": "execute_result"
    }
   ],
   "source": [
    "y_pred"
   ]
  },
  {
   "cell_type": "code",
   "execution_count": 94,
   "id": "54aa2abd-ac45-4c9e-a74a-016933164e48",
   "metadata": {},
   "outputs": [
    {
     "data": {
      "text/plain": [
       "array([10.44, 13.68, 17.4 , 19.2 ,  7.08, 12.12, 15.12,  3.84,  8.4 ,\n",
       "       26.04, 24.24, 19.08, 11.64,  8.76, 22.08, 23.04, 12.36,  8.28,\n",
       "       17.64, 12.12, 14.16, 28.44, 20.52, 23.64, 30.6 , 17.04, 15.96,\n",
       "       15.84, 20.52, 24.24,  9.12, 21.6 , 15.36, 12.36, 11.88])"
      ]
     },
     "execution_count": 94,
     "metadata": {},
     "output_type": "execute_result"
    }
   ],
   "source": [
    "y_test"
   ]
  }
 ],
 "metadata": {
  "kernelspec": {
   "display_name": "Python 3 (ipykernel)",
   "language": "python",
   "name": "python3"
  },
  "language_info": {
   "codemirror_mode": {
    "name": "ipython",
    "version": 3
   },
   "file_extension": ".py",
   "mimetype": "text/x-python",
   "name": "python",
   "nbconvert_exporter": "python",
   "pygments_lexer": "ipython3",
   "version": "3.11.7"
  }
 },
 "nbformat": 4,
 "nbformat_minor": 5
}
